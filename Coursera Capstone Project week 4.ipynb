{
 "cells": [
  {
   "cell_type": "markdown",
   "metadata": {},
   "source": [
    "# Capstone Project Week 4 - Clustering and Analysis in Los Angeles County neighborhoods"
   ]
  },
  {
   "cell_type": "markdown",
   "metadata": {},
   "source": [
    "#### Applied Data Science Capstone by IBM/Coursera"
   ]
  },
  {
   "cell_type": "markdown",
   "metadata": {},
   "source": [
    "#### Gabriel Philot"
   ]
  },
  {
   "cell_type": "markdown",
   "metadata": {},
   "source": [
    "### Table of Contents:\n",
    "___"
   ]
  },
  {
   "cell_type": "markdown",
   "metadata": {},
   "source": [
    "##### 1- Introduction"
   ]
  },
  {
   "cell_type": "markdown",
   "metadata": {},
   "source": [
    "##### 2- Data\n",
    "___"
   ]
  },
  {
   "cell_type": "markdown",
   "metadata": {},
   "source": [
    "## 1-Introduction"
   ]
  },
  {
   "cell_type": "markdown",
   "metadata": {},
   "source": [
    "### Interest of this Capstone Project"
   ]
  },
  {
   "cell_type": "markdown",
   "metadata": {},
   "source": [
    "The idea of this project is to use one of the most popular unsupervised machine learning techniques, for creating an analysis of a city’s venues , based on the information from foursquare’s available data of each neighborhood. This project also serve to obtain some knowledge before opening primarily a restaurant in LA, and other applications that need information on how different and similar neighborhoods are by the symmetries of their characteristics of each neighborhood."
   ]
  },
  {
   "cell_type": "markdown",
   "metadata": {},
   "source": [
    "### 1.2-Business Problem"
   ]
  },
  {
   "cell_type": "markdown",
   "metadata": {},
   "source": [
    "The objective of this capstone project is to determine the best location for opening a new restaurant of Bahian food in the city of Los Angeles. The methodology that will be used for this project brings some Data Science and machine learning methods for answering the following business question: Where is the best location for an entrepreneur to open his restaurant?"
   ]
  },
  {
   "cell_type": "markdown",
   "metadata": {},
   "source": [
    "## 2-Data"
   ]
  },
  {
   "cell_type": "markdown",
   "metadata": {},
   "source": [
    "### 2.1 Data to solve the problem"
   ]
  },
  {
   "cell_type": "markdown",
   "metadata": {},
   "source": [
    "List of all neighborhoods in Los Angeles, CA, USA.\n",
    "\n",
    "Latitude and Longitude from these neighborhoods.\n",
    "\n",
    "All the venues of each neighborhoods."
   ]
  },
  {
   "cell_type": "markdown",
   "metadata": {},
   "source": [
    "### 2.2 Data Source¶"
   ]
  },
  {
   "cell_type": "markdown",
   "metadata": {},
   "source": [
    "##### In this project the data came from two diferent souces"
   ]
  },
  {
   "cell_type": "markdown",
   "metadata": {},
   "source": [
    "https://usc.data.socrata.com/dataset/Los-Angeles-Neighborhood-Map/r8qd-yxsr - All the neighborhoods from Los Angeles and the latitude, longitude from each one neighborhood."
   ]
  },
  {
   "cell_type": "markdown",
   "metadata": {},
   "source": [
    "\n",
    "https://developer.foursquare.com/ - The availble venue data for each neighborhood."
   ]
  },
  {
   "cell_type": "code",
   "execution_count": 4,
   "metadata": {},
   "outputs": [],
   "source": [
    "import pandas as pd"
   ]
  },
  {
   "cell_type": "markdown",
   "metadata": {},
   "source": [
    "### 2.4 Picking the data"
   ]
  },
  {
   "cell_type": "markdown",
   "metadata": {},
   "source": [
    "#### 2.4.1 LA: Los Angeles city Neighborhoods, with latitude and longitude coordinates"
   ]
  },
  {
   "cell_type": "code",
   "execution_count": 5,
   "metadata": {},
   "outputs": [
    {
     "data": {
      "text/plain": [
       "((271, 3),\n",
       "       Neighborhood   Latitude   Longitude\n",
       " 0            Acton  34.497355 -118.169810\n",
       " 1  Adams-Normandie  34.031462 -118.300208\n",
       " 2     Agoura Hills  34.146737 -118.759885\n",
       " 3       Agua Dulce  34.504927 -118.317104\n",
       " 4         Alhambra  34.085539 -118.136512)"
      ]
     },
     "execution_count": 5,
     "metadata": {},
     "output_type": "execute_result"
    }
   ],
   "source": [
    "\n",
    "# read csv file\n",
    "la = pd.read_csv(r'C:\\Users\\flavi\\Documents\\la_final.csv')\n",
    "\n",
    "# sor\n",
    "la.sort_values(by='Neighborhood', axis=0, inplace=True)\n",
    "\n",
    "la = la.set_index('Neighborhood').reset_index()\n",
    "\n",
    "la.shape , la.head()"
   ]
  },
  {
   "cell_type": "markdown",
   "metadata": {},
   "source": [
    "This Dataframe set is composed of 271 neighborhoods with the following properties: Name, Latitude, and Longitude"
   ]
  },
  {
   "cell_type": "markdown",
   "metadata": {},
   "source": [
    "The next Data Step will be on connecting to the foursquare API and make use of a function like de getnearby venues (that we seen on the course ) for extracting the first 100 venues of each neighboordhood, with all that Data avaible for us we can continue our Capstone Project in the 5th week."
   ]
  },
  {
   "cell_type": "markdown",
   "metadata": {},
   "source": [
    "Thats all for this notebook,see ya!"
   ]
  },
  {
   "cell_type": "code",
   "execution_count": null,
   "metadata": {},
   "outputs": [],
   "source": []
  }
 ],
 "metadata": {
  "kernelspec": {
   "display_name": "Python 3",
   "language": "python",
   "name": "python3"
  },
  "language_info": {
   "codemirror_mode": {
    "name": "ipython",
    "version": 3
   },
   "file_extension": ".py",
   "mimetype": "text/x-python",
   "name": "python",
   "nbconvert_exporter": "python",
   "pygments_lexer": "ipython3",
   "version": "3.8.3"
  }
 },
 "nbformat": 4,
 "nbformat_minor": 4
}
